{
 "cells": [
  {
   "cell_type": "markdown",
   "id": "3bfbc9cc-df08-43df-9ec7-65950daaa9df",
   "metadata": {},
   "source": [
    "# Investigation of Different Supervised Learning Algorithms for BBC News Article Classification"
   ]
  },
  {
   "cell_type": "markdown",
   "id": "cfb9bd0c-77d4-4977-8d60-0d01d2049a89",
   "metadata": {},
   "source": [
    "## Exploratory Data Analytics"
   ]
  },
  {
   "cell_type": "code",
   "execution_count": null,
   "id": "5e9fa55d-73cf-4d09-ad70-6d7247278d63",
   "metadata": {},
   "outputs": [],
   "source": []
  },
  {
   "cell_type": "markdown",
   "id": "0087622c-caa4-4aaf-8250-32fc501ac884",
   "metadata": {},
   "source": [
    "## Classification Models"
   ]
  },
  {
   "cell_type": "markdown",
   "id": "226f47ec-35d8-4de2-bfaa-af98889e685e",
   "metadata": {},
   "source": [
    "### Logistic Regression Classifier"
   ]
  },
  {
   "cell_type": "code",
   "execution_count": null,
   "id": "df737ad1-73d9-455e-812e-e34ca61a8c42",
   "metadata": {},
   "outputs": [],
   "source": []
  },
  {
   "cell_type": "markdown",
   "id": "df861ccd-4c23-49be-8b39-d9132b95eeb2",
   "metadata": {},
   "source": [
    "### Naive Bayes Classifier"
   ]
  },
  {
   "cell_type": "code",
   "execution_count": null,
   "id": "fa42d6f3-1198-40cc-80f8-1d1c1f1e8209",
   "metadata": {},
   "outputs": [],
   "source": []
  },
  {
   "cell_type": "markdown",
   "id": "924e34bb-811f-49c3-838e-ee7018248e9c",
   "metadata": {},
   "source": [
    "### Support Vector Machine"
   ]
  },
  {
   "cell_type": "code",
   "execution_count": null,
   "id": "401e15cc-1a84-491d-a088-e5270b502cfa",
   "metadata": {},
   "outputs": [],
   "source": []
  },
  {
   "cell_type": "markdown",
   "id": "2d360b25-254f-4b7e-8354-5204384136e8",
   "metadata": {},
   "source": [
    "### Neural Network"
   ]
  },
  {
   "cell_type": "code",
   "execution_count": null,
   "id": "a5ad01c3-1987-4e7b-8f64-ab9bf6bd4599",
   "metadata": {},
   "outputs": [],
   "source": []
  },
  {
   "cell_type": "markdown",
   "id": "e85de601-49bf-4a4a-a780-1dd943542616",
   "metadata": {},
   "source": [
    "## Evaluation"
   ]
  },
  {
   "cell_type": "code",
   "execution_count": null,
   "id": "e714e20e-898c-4cbd-9cc3-69baa96e709f",
   "metadata": {},
   "outputs": [],
   "source": []
  }
 ],
 "metadata": {
  "kernelspec": {
   "display_name": "Python 3 (ipykernel)",
   "language": "python",
   "name": "python3"
  },
  "language_info": {
   "codemirror_mode": {
    "name": "ipython",
    "version": 3
   },
   "file_extension": ".py",
   "mimetype": "text/x-python",
   "name": "python",
   "nbconvert_exporter": "python",
   "pygments_lexer": "ipython3",
   "version": "3.9.7"
  }
 },
 "nbformat": 4,
 "nbformat_minor": 5
}
